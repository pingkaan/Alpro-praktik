{
 "cells": [
  {
   "cell_type": "code",
   "execution_count": 2,
   "metadata": {},
   "outputs": [
    {
     "name": "stdout",
     "output_type": "stream",
     "text": [
      "Pingkan Putri\n",
      "18\n",
      "dua puluh satu\n",
      "Biodata\n",
      " Pingkan Putri \n",
      " 18 \n",
      " Membaca\n",
      "Macam-macam sapaan :  Halo Hai Hi Bye\n",
      "50\n",
      "x + y = 19\n"
     ]
    }
   ],
   "source": [
    "#proses memasukkan data ke dalam variabel\n",
    "nama = \"Pingkan Putri\"\n",
    "#proses mencetak variabel\n",
    "print(nama)\n",
    "#nilai dan tipe data dalam variabel dapat diubah\n",
    "umur = 18 #nilai awal\n",
    "print(umur) #mencetak nilai umur\n",
    "type(umur) #mengecek tipe data umur\n",
    "umur = \"dua puluh satu\" #nilai setelah diubah\n",
    "print(umur)\n",
    "type(umur)\n",
    "namaDepan = \"Pingkan\"\n",
    "namaBelakang = \"Putri\"\n",
    "nama = namaDepan + \" \" + namaBelakang\n",
    "umur = 18\n",
    "hobi = \"Membaca\"\n",
    "print(\"Biodata\\n\", nama, \"\\n\", umur, \"\\n\", hobi)\n",
    "\n",
    "#contoh variabel lain\n",
    "variabel_1 = \"Halo\"\n",
    "variabel_2 = \"Hai\"\n",
    "variabel_3 = \"Hi\"\n",
    "variabel_4 = \"Bye\"\n",
    "print(f\"Macam-macam sapaan : \",variabel_1,variabel_2,variabel_3,variabel_4)\n",
    "\n",
    "\n",
    "panjang = 10\n",
    "lebar = 5\n",
    "luas = panjang * lebar\n",
    "print(luas)\n",
    "\n",
    "\n",
    "x = 15\n",
    "y = 4\n",
    "\n",
    "print('x + y =',x+y)\n",
    "\n"
   ]
  }
 ],
 "metadata": {
  "kernelspec": {
   "display_name": "Python 3.9.12 ('base')",
   "language": "python",
   "name": "python3"
  },
  "language_info": {
   "codemirror_mode": {
    "name": "ipython",
    "version": 3
   },
   "file_extension": ".py",
   "mimetype": "text/x-python",
   "name": "python",
   "nbconvert_exporter": "python",
   "pygments_lexer": "ipython3",
   "version": "3.9.12"
  },
  "orig_nbformat": 4,
  "vscode": {
   "interpreter": {
    "hash": "ad2bdc8ecc057115af97d19610ffacc2b4e99fae6737bb82f5d7fb13d2f2c186"
   }
  }
 },
 "nbformat": 4,
 "nbformat_minor": 2
}
